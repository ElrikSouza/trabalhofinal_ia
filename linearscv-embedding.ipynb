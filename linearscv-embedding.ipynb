{
 "cells": [
  {
   "cell_type": "code",
   "execution_count": 2,
   "metadata": {},
   "outputs": [],
   "source": [
    "import pandas as pd\n",
    "from sklearn.svm import LinearSVC\n",
    "from sklearn.model_selection import train_test_split\n",
    "from zeugma.embeddings import EmbeddingTransformer"
   ]
  },
  {
   "cell_type": "code",
   "execution_count": 3,
   "metadata": {},
   "outputs": [],
   "source": [
    "uncertainty = pd.read_csv(\"./incerteza.csv\", sep=\";\")\n",
    "hyperbole = pd.read_csv(\"./hyperbole.csv\", sep=\";\")\n",
    "metonymy = pd.read_csv(\"./metonymy.csv\", sep=\";\")\n",
    "antithesis = pd.read_csv(\"./antithesis.csv\", sep=\";\")"
   ]
  },
  {
   "cell_type": "code",
   "execution_count": 4,
   "metadata": {},
   "outputs": [],
   "source": [
    "def glove_transform(data):\n",
    "\tglove = EmbeddingTransformer('glove-wiki-gigaword-100')\n",
    "\tx = glove.fit_transform(data.text)\n",
    "\n",
    "\tglove_df = pd.DataFrame(x)\n",
    "\tglove_df[\"class\"] = data[\"class\"]\n",
    "\n",
    "\treturn glove_df\n"
   ]
  },
  {
   "cell_type": "code",
   "execution_count": 5,
   "metadata": {},
   "outputs": [],
   "source": [
    "def split_xy(data):\n",
    "\ty = data[\"class\"]\n",
    "\tx = data.drop(columns=[\"class\"])\n",
    "\n",
    "\ttrain_x, test_x, train_y, test_y = train_test_split(\n",
    "\t\tx, y, stratify=y, test_size=0.2, random_state=67)\n",
    "\n",
    "\treturn train_x, test_x, train_y, test_y"
   ]
  },
  {
   "cell_type": "code",
   "execution_count": 6,
   "metadata": {},
   "outputs": [],
   "source": [
    "def train_glove(data, model):\n",
    "\ttrain_x, test_x, train_y, test_y = split_xy(data)\n",
    "\tmodel.fit(train_x, train_y)\n",
    "\tprint(model.score(test_x, test_y))\n",
    "\treturn model"
   ]
  },
  {
   "cell_type": "code",
   "execution_count": 60,
   "metadata": {},
   "outputs": [],
   "source": [
    "def test_sentences(text, y, model, transform=True):\n",
    "\tif transform:\n",
    "\t\tglove = EmbeddingTransformer('glove-wiki-gigaword-100')\n",
    "\t\tx = glove.fit_transform(text)\n",
    "\telse:\n",
    "\t\tx=text\n",
    "\t\n",
    "\tprint(f\"Orig. {list(y)}\")\n",
    "\tprint(f\"Pred. {model.predict(x)}\")\n",
    "\tprint(model.score(x, y))"
   ]
  },
  {
   "cell_type": "code",
   "execution_count": 8,
   "metadata": {},
   "outputs": [],
   "source": [
    "hyperbole_glove = glove_transform(hyperbole)"
   ]
  },
  {
   "cell_type": "code",
   "execution_count": 9,
   "metadata": {},
   "outputs": [],
   "source": [
    "uncertainty_glove = glove_transform(uncertainty)"
   ]
  },
  {
   "cell_type": "code",
   "execution_count": 10,
   "metadata": {},
   "outputs": [],
   "source": [
    "metonymy_glove = glove_transform(metonymy)"
   ]
  },
  {
   "cell_type": "code",
   "execution_count": 11,
   "metadata": {},
   "outputs": [],
   "source": [
    "antithesis_glove = glove_transform(antithesis)"
   ]
  },
  {
   "cell_type": "code",
   "execution_count": 12,
   "metadata": {},
   "outputs": [
    {
     "name": "stdout",
     "output_type": "stream",
     "text": [
      "0.7272727272727273\n"
     ]
    }
   ],
   "source": [
    "uncertainty_model = train_glove(uncertainty_glove, LinearSVC())"
   ]
  },
  {
   "cell_type": "code",
   "execution_count": 13,
   "metadata": {},
   "outputs": [
    {
     "name": "stdout",
     "output_type": "stream",
     "text": [
      "0.8571428571428571\n"
     ]
    }
   ],
   "source": [
    "hyperbole_model = train_glove(hyperbole_glove, LinearSVC())"
   ]
  },
  {
   "cell_type": "code",
   "execution_count": 65,
   "metadata": {},
   "outputs": [
    {
     "name": "stdout",
     "output_type": "stream",
     "text": [
      "0.5454545454545454\n"
     ]
    }
   ],
   "source": [
    "metonymy_model = train_glove(metonymy_glove, LinearSVC())"
   ]
  },
  {
   "cell_type": "code",
   "execution_count": 57,
   "metadata": {},
   "outputs": [
    {
     "name": "stdout",
     "output_type": "stream",
     "text": [
      "0.6428571428571429\n"
     ]
    }
   ],
   "source": [
    "antithesis_model = train_glove(antithesis_glove, LinearSVC())"
   ]
  },
  {
   "cell_type": "code",
   "execution_count": 47,
   "metadata": {},
   "outputs": [],
   "source": [
    "def load_captions():\n",
    "\tdata = pd.read_csv(\"captions.csv\",sep=\";\")\n",
    "\tglove = EmbeddingTransformer('glove-wiki-gigaword-100')\n",
    "\tx = glove.fit_transform(data.text)\n",
    "\tglove_df = pd.DataFrame(x)\n",
    "\tglove_df[y_cols] = data[y_cols]\n",
    "\treturn glove_df"
   ]
  },
  {
   "cell_type": "code",
   "execution_count": 50,
   "metadata": {},
   "outputs": [],
   "source": [
    "captions = load_captions()"
   ]
  },
  {
   "cell_type": "code",
   "execution_count": 20,
   "metadata": {},
   "outputs": [
    {
     "name": "stdout",
     "output_type": "stream",
     "text": [
      "Orig. [0, 1, 0, 0, 1, 1, 1, 1, 1, 1, 1, 1, 1]\n",
      "Pred. [0 1 0 0 1 1 1 1 1 1 0 1 1]\n",
      "0.9230769230769231\n"
     ]
    }
   ],
   "source": [
    "sentences = [\n",
    "\t\"I've done this a hundred times before\",\n",
    "\t\"This is reasonable\",\n",
    "\t\"This tree is as tall as a building\",\n",
    "\t\"I am going to die if I don't finish this\",\n",
    "\t\"This won't work\",\n",
    "\t\"Brazil is the country that most preserves the environment\",\n",
    "\t\"President this message from you regarding the day of the Amazon is important\",\n",
    "\t\"The President values care for the people of the Amazon the Amazon environment\",\n",
    "\t\"And for that the important measures that you have supported: valuing people, the environment, land regularization, economic-ecological zoning\",\n",
    "\t\"You opened the economy and payment for environmental services in the X program\",\n",
    "\t\"In addition the program that you created the program to adopt a park for those who really want to help in the 132 preservation units, put your hand in your pockets and leave the field of speech and really help.\",\n",
    "\t\"For the first time, the environment in Brazil is no longer a good business just for environmentalists, but an adequate conservation for people, associated with sustainable production, whether in the Amazon or outside it.\",\n",
    "\t\"Brazil is the country that preserves the environment the most.\"\n",
    "]\n",
    "\n",
    "classes = [0,1,0,0,1,1,1,1,1,1,1,1,1]\n",
    "\n",
    "test_sentences(sentences, classes, hyperbole_model)"
   ]
  },
  {
   "cell_type": "code",
   "execution_count": 42,
   "metadata": {},
   "outputs": [],
   "source": [
    "y_cols = [\"hyperbole\",\"antithesis\",\"metonymy\",\"uncertainty\"]"
   ]
  },
  {
   "cell_type": "code",
   "execution_count": 63,
   "metadata": {},
   "outputs": [
    {
     "name": "stdout",
     "output_type": "stream",
     "text": [
      "Orig. [1, 1, 1, 1, 1, 1, 1]\n",
      "Pred. [1 1 1 1 0 1 1]\n",
      "0.8571428571428571\n"
     ]
    }
   ],
   "source": [
    "test_sentences(captions.drop(columns=y_cols), captions.hyperbole, hyperbole_model, transform=False)"
   ]
  },
  {
   "cell_type": "code",
   "execution_count": 62,
   "metadata": {},
   "outputs": [
    {
     "name": "stdout",
     "output_type": "stream",
     "text": [
      "Orig. [1, 1, 1, 1, 1, 1, 1]\n",
      "Pred. [0 1 1 1 0 0 1]\n",
      "0.5714285714285714\n"
     ]
    }
   ],
   "source": [
    "test_sentences(captions.drop(columns=y_cols), captions.uncertainty, uncertainty_model, transform=False)"
   ]
  },
  {
   "cell_type": "code",
   "execution_count": 61,
   "metadata": {},
   "outputs": [
    {
     "name": "stdout",
     "output_type": "stream",
     "text": [
      "Orig. [1, 1, 1, 1, 0, 0, 1]\n",
      "Pred. [1 0 1 1 1 0 0]\n",
      "0.5714285714285714\n"
     ]
    }
   ],
   "source": [
    "test_sentences(captions.drop(columns=y_cols), captions.antithesis, antithesis_model, transform=False)"
   ]
  },
  {
   "cell_type": "code",
   "execution_count": 66,
   "metadata": {},
   "outputs": [
    {
     "name": "stdout",
     "output_type": "stream",
     "text": [
      "Orig. [1, 1, 1, 1, 1, 1, 1]\n",
      "Pred. [1 1 1 0 0 0 1]\n",
      "0.5714285714285714\n"
     ]
    }
   ],
   "source": [
    "test_sentences(captions.drop(columns=y_cols), captions.metonymy, metonymy_model, transform=False)"
   ]
  }
 ],
 "metadata": {
  "interpreter": {
   "hash": "e7370f93d1d0cde622a1f8e1c04877d8463912d04d973331ad4851f04de6915a"
  },
  "kernelspec": {
   "display_name": "Python 3.9.7 64-bit",
   "language": "python",
   "name": "python3"
  },
  "language_info": {
   "codemirror_mode": {
    "name": "ipython",
    "version": 3
   },
   "file_extension": ".py",
   "mimetype": "text/x-python",
   "name": "python",
   "nbconvert_exporter": "python",
   "pygments_lexer": "ipython3",
   "version": "3.9.7"
  },
  "orig_nbformat": 4
 },
 "nbformat": 4,
 "nbformat_minor": 2
}
