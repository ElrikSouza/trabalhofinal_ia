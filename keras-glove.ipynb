{
 "cells": [
  {
   "cell_type": "code",
   "execution_count": 25,
   "metadata": {},
   "outputs": [],
   "source": [
    "import tensorflow as tf\n",
    "from tensorflow.keras.layers import TextVectorization\n",
    "from tensorflow.keras import layers, initializers\n",
    "import numpy as np\n",
    "import pandas as pd"
   ]
  },
  {
   "cell_type": "code",
   "execution_count": 5,
   "metadata": {},
   "outputs": [],
   "source": [
    "from numpy.random import seed\n",
    "seed(67)\n",
    "from tensorflow import random\n",
    "random.set_seed(67)"
   ]
  },
  {
   "cell_type": "code",
   "execution_count": 6,
   "metadata": {},
   "outputs": [],
   "source": [
    "# Consts\n",
    "max_features = 20000\n",
    "embedding_dim = 100\n",
    "sequence_length = 500\n",
    "PATH_TO_GLOVE = \"./glove.6B.100d.txt\""
   ]
  },
  {
   "cell_type": "code",
   "execution_count": 7,
   "metadata": {},
   "outputs": [],
   "source": [
    "embeddings_index = {}\n",
    "with open(PATH_TO_GLOVE) as f:\n",
    "    for line in f:\n",
    "        word, coefs = line.split(maxsplit=1)\n",
    "        coefs = np.fromstring(coefs, \"f\", sep=\" \")\n",
    "        embeddings_index[word] = coefs"
   ]
  },
  {
   "cell_type": "code",
   "execution_count": 8,
   "metadata": {},
   "outputs": [],
   "source": [
    "def load_dataset(folder_name, batch_size):\n",
    "\tbatch_size = 5\n",
    "\traw_train_ds = tf.keras.preprocessing.text_dataset_from_directory(\n",
    "\t\t\"{}/train\".format(folder_name),\n",
    "\t\tbatch_size=batch_size,\n",
    "\t\tvalidation_split=0.2,\n",
    "\t\tsubset=\"training\",\n",
    "\t\tseed=1337,\n",
    "\t)\n",
    "\traw_val_ds = tf.keras.preprocessing.text_dataset_from_directory(\n",
    "\t\t\"{}/train\".format(folder_name),\n",
    "\t\tbatch_size=batch_size,\n",
    "\t\tvalidation_split=0.2,\n",
    "\t\tsubset=\"validation\",\n",
    "\t\tseed=1337,\n",
    "\t)\n",
    "\traw_test_ds = tf.keras.preprocessing.text_dataset_from_directory(\n",
    "\t\t\"{}/test\".format(folder_name), batch_size=batch_size\n",
    "\t)\n",
    "\n",
    "\treturn raw_train_ds, raw_val_ds, raw_test_ds"
   ]
  },
  {
   "cell_type": "code",
   "execution_count": 9,
   "metadata": {},
   "outputs": [],
   "source": [
    "def get_vectorize_layer(raw_train_ds):\n",
    "\tvectorize_layer = TextVectorization(\n",
    "\t\tstandardize='lower_and_strip_punctuation',\n",
    "\t\tmax_tokens=max_features,\n",
    "\t\toutput_mode=\"int\",\n",
    "\t\toutput_sequence_length=sequence_length,\n",
    "\t)\n",
    "\n",
    "\ttext_ds = raw_train_ds.map(lambda x, y: x)\n",
    "\tvectorize_layer.adapt(text_ds)\n",
    "\n",
    "\treturn vectorize_layer"
   ]
  },
  {
   "cell_type": "code",
   "execution_count": 10,
   "metadata": {},
   "outputs": [],
   "source": [
    "def get_vectorize_text_map(vectorize_layer):\n",
    "\tdef map_text(text, label):\n",
    "\t\ttext = tf.expand_dims(text, -1)\n",
    "\t\treturn vectorize_layer(text), label\n",
    "\t\n",
    "\treturn map_text\n",
    "\n",
    "def create_final_datasets(raw_train_ds, raw_val_ds, raw_test_ds, vectorize_layer):\n",
    "\tvectorize_text = get_vectorize_text_map(vectorize_layer)\n",
    "\ttrain_ds = raw_train_ds.map(vectorize_text)\n",
    "\tval_ds = raw_val_ds.map(vectorize_text)\n",
    "\ttest_ds = raw_test_ds.map(vectorize_text)\n",
    "\n",
    "\ttrain_ds = train_ds.cache().prefetch(buffer_size=10)\n",
    "\tval_ds = val_ds.cache().prefetch(buffer_size=10)\n",
    "\ttest_ds = test_ds.cache().prefetch(buffer_size=10)\n",
    "\n",
    "\treturn train_ds, val_ds, test_ds"
   ]
  },
  {
   "cell_type": "code",
   "execution_count": 11,
   "metadata": {},
   "outputs": [],
   "source": [
    "def create_model(embedding_matrix, num_tokens):\n",
    "\tinputs = tf.keras.Input(shape=(None,), dtype=\"int64\")\n",
    "\n",
    "\tx = layers.Embedding(\n",
    "\t\tnum_tokens,\n",
    "\t\tembedding_dim,\n",
    "\t\tembeddings_initializer= initializers.Constant(embedding_matrix),\n",
    "\t\ttrainable=False,\n",
    "\t)(inputs)\n",
    "\tx = layers.Dropout(0.5)(x)\n",
    "\n",
    "\tx = layers.Conv1D(100, 7, padding=\"valid\", activation=\"relu\", strides=3)(x)\n",
    "\tx = layers.Conv1D(100, 7, padding=\"valid\", activation=\"relu\", strides=3)(x)\n",
    "\tx = layers.GlobalMaxPooling1D()(x)\n",
    "\n",
    "\tx = layers.Dense(100, activation=\"relu\")(x)\n",
    "\tx = layers.Dropout(0.5)(x)\n",
    "\n",
    "\tpredictions = layers.Dense(1, activation=\"sigmoid\", name=\"predictions\")(x)\n",
    "\n",
    "\tmodel = tf.keras.Model(inputs, predictions)\n",
    "\n",
    "\tmodel.compile(loss=\"binary_crossentropy\", optimizer=\"adam\", metrics=[\"accuracy\"])\n",
    "\n",
    "\treturn model"
   ]
  },
  {
   "cell_type": "code",
   "execution_count": 12,
   "metadata": {},
   "outputs": [],
   "source": [
    "def create_e2e_model(model, vectorize_layer):\n",
    "\tinputs = tf.keras.Input(shape=(1,), dtype=\"string\")\n",
    "\tindices = vectorize_layer(inputs)\n",
    "\toutputs = model(indices)\n",
    "\n",
    "\te2e_model = tf.keras.Model(inputs, outputs)\n",
    "\te2e_model.compile(\n",
    "\t\tloss=\"binary_crossentropy\", optimizer=\"adam\", metrics=[\"accuracy\"]\n",
    "\t)\n",
    "\n",
    "\treturn e2e_model"
   ]
  },
  {
   "cell_type": "code",
   "execution_count": 13,
   "metadata": {},
   "outputs": [],
   "source": [
    "def train_model(model, train_ds, val_ds, epochs = 7):\n",
    "\tmodel.fit(train_ds, validation_data=val_ds, epochs=epochs)\n",
    "\treturn model"
   ]
  },
  {
   "cell_type": "code",
   "execution_count": 14,
   "metadata": {},
   "outputs": [],
   "source": [
    "def create_embedding_matrix(vectorize_layer):\n",
    "\tvoc = vectorize_layer.get_vocabulary()\n",
    "\tword_index = dict(zip(voc, range(len(voc))))\n",
    "\tnum_tokens = len(voc) + 2\n",
    "\thits = 0\n",
    "\tmisses = 0\n",
    "\n",
    "\tembedding_matrix = np.zeros((num_tokens, embedding_dim))\n",
    "\tfor word, i in word_index.items():\n",
    "\t\tembedding_vector = embeddings_index.get(word)\n",
    "\t\tif embedding_vector is not None:\n",
    "\t\t\tembedding_matrix[i] = embedding_vector\n",
    "\t\t\thits += 1\n",
    "\t\telse:\n",
    "\t\t\tmisses += 1\n",
    "\t\n",
    "\treturn embedding_matrix, num_tokens"
   ]
  },
  {
   "cell_type": "code",
   "execution_count": 28,
   "metadata": {},
   "outputs": [],
   "source": [
    "def test_dataset(dataset_name, epochs):\n",
    "\traw_train_ds, raw_val_ds, raw_test_ds = load_dataset(dataset_name, 5)\n",
    "\tvectorize_layer = get_vectorize_layer(raw_train_ds)\n",
    "\n",
    "\ttrain_ds, val_ds, test_ds = create_final_datasets(raw_train_ds, raw_val_ds, raw_test_ds, vectorize_layer)\n",
    "\tmatrix, tokens = create_embedding_matrix(vectorize_layer)\n",
    "\tmodel = create_model(matrix, tokens)\n",
    "\tmodel = train_model(model, train_ds, val_ds, epochs)\n",
    "\tmodel.evaluate(test_ds)\n",
    "\te2e_model = create_e2e_model(model, vectorize_layer)\n",
    "\treturn e2e_model"
   ]
  },
  {
   "cell_type": "code",
   "execution_count": 29,
   "metadata": {},
   "outputs": [
    {
     "name": "stdout",
     "output_type": "stream",
     "text": [
      "Found 80 files belonging to 2 classes.\n",
      "Using 64 files for training.\n",
      "Found 80 files belonging to 2 classes.\n",
      "Using 16 files for validation.\n",
      "Found 21 files belonging to 2 classes.\n",
      "Number of batches in raw_train_ds: 13\n",
      "Number of batches in raw_val_ds: 4\n",
      "Number of batches in raw_test_ds: 5\n",
      "Converted 359 words (26 misses)\n",
      "Epoch 1/8\n",
      "13/13 [==============================] - 1s 24ms/step - loss: 0.6797 - accuracy: 0.5469 - val_loss: 0.5501 - val_accuracy: 0.7500\n",
      "Epoch 2/8\n",
      "13/13 [==============================] - 0s 15ms/step - loss: 0.5566 - accuracy: 0.6875 - val_loss: 0.3927 - val_accuracy: 1.0000\n",
      "Epoch 3/8\n",
      "13/13 [==============================] - 0s 15ms/step - loss: 0.3990 - accuracy: 0.8281 - val_loss: 0.2950 - val_accuracy: 0.9375\n",
      "Epoch 4/8\n",
      "13/13 [==============================] - 0s 12ms/step - loss: 0.2468 - accuracy: 0.9219 - val_loss: 0.2196 - val_accuracy: 0.9375\n",
      "Epoch 5/8\n",
      "13/13 [==============================] - 0s 11ms/step - loss: 0.1833 - accuracy: 0.9375 - val_loss: 0.1865 - val_accuracy: 0.8750\n",
      "Epoch 6/8\n",
      "13/13 [==============================] - 0s 12ms/step - loss: 0.0785 - accuracy: 0.9844 - val_loss: 0.2106 - val_accuracy: 0.8750\n",
      "Epoch 7/8\n",
      "13/13 [==============================] - 0s 14ms/step - loss: 0.0567 - accuracy: 0.9844 - val_loss: 0.1946 - val_accuracy: 0.9375\n",
      "Epoch 8/8\n",
      "13/13 [==============================] - 0s 12ms/step - loss: 0.0293 - accuracy: 1.0000 - val_loss: 0.2194 - val_accuracy: 0.8750\n",
      "5/5 [==============================] - 0s 3ms/step - loss: 0.2318 - accuracy: 0.9048\n"
     ]
    }
   ],
   "source": [
    "hyperbole_model = test_dataset(\"hyperboleset\", 8)"
   ]
  },
  {
   "cell_type": "code",
   "execution_count": 32,
   "metadata": {},
   "outputs": [
    {
     "name": "stdout",
     "output_type": "stream",
     "text": [
      "Found 63 files belonging to 2 classes.\n",
      "Using 51 files for training.\n",
      "Found 63 files belonging to 2 classes.\n",
      "Using 12 files for validation.\n",
      "Found 16 files belonging to 2 classes.\n",
      "Number of batches in raw_train_ds: 11\n",
      "Number of batches in raw_val_ds: 3\n",
      "Number of batches in raw_test_ds: 4\n",
      "Converted 354 words (25 misses)\n",
      "Epoch 1/8\n",
      "11/11 [==============================] - 1s 26ms/step - loss: 0.7578 - accuracy: 0.4510 - val_loss: 0.6618 - val_accuracy: 0.6667\n",
      "Epoch 2/8\n",
      "11/11 [==============================] - 0s 17ms/step - loss: 0.6947 - accuracy: 0.5686 - val_loss: 0.6369 - val_accuracy: 0.8333\n",
      "Epoch 3/8\n",
      "11/11 [==============================] - 0s 18ms/step - loss: 0.5935 - accuracy: 0.7255 - val_loss: 0.6146 - val_accuracy: 0.8333\n",
      "Epoch 4/8\n",
      "11/11 [==============================] - 0s 17ms/step - loss: 0.5576 - accuracy: 0.8039 - val_loss: 0.5791 - val_accuracy: 0.6667\n",
      "Epoch 5/8\n",
      "11/11 [==============================] - 0s 18ms/step - loss: 0.3958 - accuracy: 0.9020 - val_loss: 0.5326 - val_accuracy: 0.7500\n",
      "Epoch 6/8\n",
      "11/11 [==============================] - 0s 17ms/step - loss: 0.3164 - accuracy: 0.9216 - val_loss: 0.5170 - val_accuracy: 0.7500\n",
      "Epoch 7/8\n",
      "11/11 [==============================] - 0s 15ms/step - loss: 0.1515 - accuracy: 0.9608 - val_loss: 0.5074 - val_accuracy: 0.6667\n",
      "Epoch 8/8\n",
      "11/11 [==============================] - 0s 14ms/step - loss: 0.1031 - accuracy: 0.9804 - val_loss: 0.4696 - val_accuracy: 0.9167\n",
      "4/4 [==============================] - 0s 3ms/step - loss: 0.8010 - accuracy: 0.6875\n"
     ]
    }
   ],
   "source": [
    "uncertainty_model = test_dataset(\"incertezaset\", 8)"
   ]
  },
  {
   "cell_type": "code",
   "execution_count": 34,
   "metadata": {},
   "outputs": [
    {
     "name": "stdout",
     "output_type": "stream",
     "text": [
      "Found 43 files belonging to 2 classes.\n",
      "Using 35 files for training.\n",
      "Found 43 files belonging to 2 classes.\n",
      "Using 8 files for validation.\n",
      "Found 11 files belonging to 2 classes.\n",
      "Number of batches in raw_train_ds: 7\n",
      "Number of batches in raw_val_ds: 2\n",
      "Number of batches in raw_test_ds: 3\n",
      "Converted 194 words (11 misses)\n",
      "Epoch 1/10\n",
      "7/7 [==============================] - 1s 44ms/step - loss: 0.6999 - accuracy: 0.5143 - val_loss: 0.7455 - val_accuracy: 0.2500\n",
      "Epoch 2/10\n",
      "7/7 [==============================] - 0s 18ms/step - loss: 0.6808 - accuracy: 0.5143 - val_loss: 0.7457 - val_accuracy: 0.3750\n",
      "Epoch 3/10\n",
      "7/7 [==============================] - 0s 19ms/step - loss: 0.6454 - accuracy: 0.6571 - val_loss: 0.7594 - val_accuracy: 0.3750\n",
      "Epoch 4/10\n",
      "7/7 [==============================] - 0s 18ms/step - loss: 0.5459 - accuracy: 0.8286 - val_loss: 0.8187 - val_accuracy: 0.2500\n",
      "Epoch 5/10\n",
      "7/7 [==============================] - 0s 18ms/step - loss: 0.4671 - accuracy: 0.8000 - val_loss: 1.0039 - val_accuracy: 0.2500\n",
      "Epoch 6/10\n",
      "7/7 [==============================] - 0s 18ms/step - loss: 0.4268 - accuracy: 0.8857 - val_loss: 0.9072 - val_accuracy: 0.2500\n",
      "Epoch 7/10\n",
      "7/7 [==============================] - 0s 18ms/step - loss: 0.3025 - accuracy: 0.9429 - val_loss: 1.0579 - val_accuracy: 0.2500\n",
      "Epoch 8/10\n",
      "7/7 [==============================] - 0s 19ms/step - loss: 0.2583 - accuracy: 0.9429 - val_loss: 1.4950 - val_accuracy: 0.1250\n",
      "Epoch 9/10\n",
      "7/7 [==============================] - 0s 19ms/step - loss: 0.1820 - accuracy: 0.9143 - val_loss: 1.2294 - val_accuracy: 0.3750\n",
      "Epoch 10/10\n",
      "7/7 [==============================] - 0s 19ms/step - loss: 0.0903 - accuracy: 1.0000 - val_loss: 1.3733 - val_accuracy: 0.3750\n",
      "3/3 [==============================] - 0s 3ms/step - loss: 0.8864 - accuracy: 0.5455\n"
     ]
    }
   ],
   "source": [
    "metonymy_model = test_dataset(\"metonymyset\", 10)"
   ]
  },
  {
   "cell_type": "code",
   "execution_count": 35,
   "metadata": {},
   "outputs": [
    {
     "name": "stdout",
     "output_type": "stream",
     "text": [
      "Found 55 files belonging to 2 classes.\n",
      "Using 44 files for training.\n",
      "Found 55 files belonging to 2 classes.\n",
      "Using 11 files for validation.\n",
      "Found 14 files belonging to 2 classes.\n",
      "Number of batches in raw_train_ds: 9\n",
      "Number of batches in raw_val_ds: 3\n",
      "Number of batches in raw_test_ds: 3\n",
      "Converted 245 words (10 misses)\n",
      "Epoch 1/10\n",
      "9/9 [==============================] - 1s 40ms/step - loss: 0.6573 - accuracy: 0.5227 - val_loss: 0.6819 - val_accuracy: 0.5455\n",
      "Epoch 2/10\n",
      "9/9 [==============================] - 0s 19ms/step - loss: 0.6712 - accuracy: 0.5227 - val_loss: 0.6686 - val_accuracy: 0.6364\n",
      "Epoch 3/10\n",
      "9/9 [==============================] - 0s 17ms/step - loss: 0.5644 - accuracy: 0.7727 - val_loss: 0.6439 - val_accuracy: 0.7273\n",
      "Epoch 4/10\n",
      "9/9 [==============================] - 0s 17ms/step - loss: 0.5894 - accuracy: 0.7045 - val_loss: 0.6318 - val_accuracy: 0.7273\n",
      "Epoch 5/10\n",
      "9/9 [==============================] - 0s 19ms/step - loss: 0.5105 - accuracy: 0.7727 - val_loss: 0.6439 - val_accuracy: 0.5455\n",
      "Epoch 6/10\n",
      "9/9 [==============================] - 0s 16ms/step - loss: 0.3724 - accuracy: 0.9091 - val_loss: 0.6355 - val_accuracy: 0.6364\n",
      "Epoch 7/10\n",
      "9/9 [==============================] - 0s 16ms/step - loss: 0.2487 - accuracy: 0.9545 - val_loss: 0.5970 - val_accuracy: 0.6364\n",
      "Epoch 8/10\n",
      "9/9 [==============================] - 0s 14ms/step - loss: 0.1775 - accuracy: 0.9773 - val_loss: 0.5878 - val_accuracy: 0.7273\n",
      "Epoch 9/10\n",
      "9/9 [==============================] - 0s 16ms/step - loss: 0.1336 - accuracy: 1.0000 - val_loss: 0.5711 - val_accuracy: 0.7273\n",
      "Epoch 10/10\n",
      "9/9 [==============================] - 0s 16ms/step - loss: 0.0696 - accuracy: 1.0000 - val_loss: 0.5949 - val_accuracy: 0.8182\n",
      "3/3 [==============================] - 0s 5ms/step - loss: 0.6273 - accuracy: 0.6429\n"
     ]
    }
   ],
   "source": [
    "antithesis_model = test_dataset(\"antithesis_set\", 10)"
   ]
  },
  {
   "cell_type": "code",
   "execution_count": 26,
   "metadata": {},
   "outputs": [],
   "source": [
    "captions = pd.read_csv(\"captions.csv\", sep=\";\")"
   ]
  },
  {
   "cell_type": "code",
   "execution_count": 31,
   "metadata": {},
   "outputs": [
    {
     "name": "stdout",
     "output_type": "stream",
     "text": [
      "1/1 [==============================] - 0s 24ms/step - loss: 0.0515 - accuracy: 1.0000\n"
     ]
    },
    {
     "data": {
      "text/plain": [
       "[0.05150493606925011, 1.0]"
      ]
     },
     "execution_count": 31,
     "metadata": {},
     "output_type": "execute_result"
    }
   ],
   "source": [
    "hyperbole_model.evaluate(captions.text, captions.hyperbole)"
   ]
  },
  {
   "cell_type": "code",
   "execution_count": 33,
   "metadata": {},
   "outputs": [
    {
     "name": "stdout",
     "output_type": "stream",
     "text": [
      "1/1 [==============================] - 0s 237ms/step - loss: 0.9791 - accuracy: 0.5714\n"
     ]
    },
    {
     "data": {
      "text/plain": [
       "[0.9790690541267395, 0.5714285969734192]"
      ]
     },
     "execution_count": 33,
     "metadata": {},
     "output_type": "execute_result"
    }
   ],
   "source": [
    "uncertainty_model.evaluate(captions.text, captions.uncertainty)"
   ]
  },
  {
   "cell_type": "code",
   "execution_count": 36,
   "metadata": {},
   "outputs": [
    {
     "name": "stdout",
     "output_type": "stream",
     "text": [
      "1/1 [==============================] - 0s 281ms/step - loss: 1.1553 - accuracy: 0.4286\n"
     ]
    },
    {
     "data": {
      "text/plain": [
       "[1.1553064584732056, 0.4285714328289032]"
      ]
     },
     "execution_count": 36,
     "metadata": {},
     "output_type": "execute_result"
    }
   ],
   "source": [
    "metonymy_model.evaluate(captions.text, captions.metonymy)"
   ]
  },
  {
   "cell_type": "code",
   "execution_count": 37,
   "metadata": {},
   "outputs": [
    {
     "name": "stdout",
     "output_type": "stream",
     "text": [
      "1/1 [==============================] - 0s 223ms/step - loss: 2.1469 - accuracy: 0.5714\n"
     ]
    },
    {
     "data": {
      "text/plain": [
       "[2.146885633468628, 0.5714285969734192]"
      ]
     },
     "execution_count": 37,
     "metadata": {},
     "output_type": "execute_result"
    }
   ],
   "source": [
    "antithesis_model.evaluate(captions.text, captions.antithesis)"
   ]
  }
 ],
 "metadata": {
  "interpreter": {
   "hash": "e7370f93d1d0cde622a1f8e1c04877d8463912d04d973331ad4851f04de6915a"
  },
  "kernelspec": {
   "display_name": "Python 3.9.7 64-bit",
   "language": "python",
   "name": "python3"
  },
  "language_info": {
   "codemirror_mode": {
    "name": "ipython",
    "version": 3
   },
   "file_extension": ".py",
   "mimetype": "text/x-python",
   "name": "python",
   "nbconvert_exporter": "python",
   "pygments_lexer": "ipython3",
   "version": "3.9.7"
  },
  "orig_nbformat": 4
 },
 "nbformat": 4,
 "nbformat_minor": 2
}
