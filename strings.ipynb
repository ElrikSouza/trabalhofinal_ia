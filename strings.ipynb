{
 "cells": [
  {
   "cell_type": "code",
   "execution_count": 3,
   "metadata": {},
   "outputs": [],
   "source": [
    "import re"
   ]
  },
  {
   "cell_type": "code",
   "execution_count": 21,
   "metadata": {},
   "outputs": [],
   "source": [
    "remove_characters = r'[^\\w]'\n",
    "\n",
    "def normalize(raw_string):\n",
    "\tstring = re.sub(remove_characters, '', raw_string).lower()\n",
    "\treturn string\n",
    "\n",
    "def find_at_least_one_subtrings(string, substrings):\n",
    "\tfor substring in substrings:\n",
    "\t\tif string.find(substring) != -1:\n",
    "\t\t\treturn True\n",
    "\n",
    "\treturn False\n",
    "\n",
    "def map_superlative(string):\n",
    "\tmapped =[\"est\" if word.endswith(\"est\") and len(word) > 3 else word for word in string.split(\" \")]\n",
    "\treturn \" \".join(mapped)"
   ]
  },
  {
   "cell_type": "code",
   "execution_count": 6,
   "metadata": {},
   "outputs": [
    {
     "data": {
      "text/plain": [
       "'testaaaa12aaaaaaaaaaaaaaakakkakekrawjofawjljkll'"
      ]
     },
     "execution_count": 6,
     "metadata": {},
     "output_type": "execute_result"
    }
   ],
   "source": [
    "normalize(\"Test,aaaa,,,>>><<12´´´a;;;;aaa###aaaaaaaaaaa              kakkakekrawjofawjl!!!!!^#####Jkll\")"
   ]
  },
  {
   "cell_type": "code",
   "execution_count": 12,
   "metadata": {},
   "outputs": [
    {
     "data": {
      "text/plain": [
       "['I', 'am', 'the', 'est', 'turtle', 'alive']"
      ]
     },
     "execution_count": 12,
     "metadata": {},
     "output_type": "execute_result"
    }
   ],
   "source": [
    "map_superlative(\"I am the slowest turtle alive\")"
   ]
  },
  {
   "cell_type": "code",
   "execution_count": 22,
   "metadata": {},
   "outputs": [],
   "source": [
    "def classify_superlative(sentences):\n",
    "\tnormalized_sentences = [normalize(sentence) for sentence in sentences]\n",
    "\tsuperlative = [map_superlative(sentence) for sentence in normalized_sentences]\n",
    "\n",
    "\tindex = 0\n",
    "\tfor sentence in superlative:\n",
    "\t\tprint(sentences[index], find_at_least_one_subtrings(\n",
    "\t\t\tsentence, [\"themost\", \"est\"] \n",
    "\t\t))\n",
    "\t\tindex += 1\n"
   ]
  },
  {
   "cell_type": "code",
   "execution_count": 23,
   "metadata": {},
   "outputs": [
    {
     "name": "stdout",
     "output_type": "stream",
     "text": [
      "Brazil is the country that protects the forest the most True\n",
      "She is fast False\n",
      "She is the fastest True\n",
      "I am slow False\n",
      "I am the slowest True\n",
      "It's the most expensive item in this store True\n"
     ]
    }
   ],
   "source": [
    "classify_superlative([\n",
    "\t\"Brazil is the country that protects the forest the most\",\n",
    "\t\"She is fast\",\n",
    "\t\"She is the fastest\",\n",
    "\t\"I am slow\",\n",
    "\t\"I am the slowest\",\n",
    "\t\"It's the most expensive item in this store\"\n",
    "])"
   ]
  },
  {
   "cell_type": "markdown",
   "metadata": {},
   "source": [
    "# Classificação de desinformação empírica\n",
    "\n",
    "O princípio é encontrar cliches dentro de sentenças que evidenciam uma citação. Como exemplo, foi utilizada uma lista não exaustiva de cliches para\n",
    "fazer citações.\n",
    "\n",
    "Citações do tipo (Nome, ano) [Nome ] não foram consideradas, uma vez que essas construções apenas existem na escrita, e não em discursos orais. "
   ]
  },
  {
   "cell_type": "code",
   "execution_count": 26,
   "metadata": {},
   "outputs": [],
   "source": [
    "substrings = [\n",
    "\t\"accordingto\",\n",
    "\t\"foundthat\",\n",
    "\t\"accordingto\",\n",
    "\t\"saysthat\",\n",
    "]"
   ]
  },
  {
   "cell_type": "code",
   "execution_count": 28,
   "metadata": {},
   "outputs": [],
   "source": [
    "def classify_empiric_desinformation(sentences):\n",
    "\tnormalized_sentences = [normalize(sentence) for sentence in sentences]\n",
    "\n",
    "\tindex = 0\n",
    "\tfor sentence in normalized_sentences:\n",
    "\t\tprint(sentences[index], not find_at_least_one_subtrings(\n",
    "\t\t\tsentence, substrings\n",
    "\t\t))\n",
    "\t\tindex += 1"
   ]
  },
  {
   "cell_type": "code",
   "execution_count": 30,
   "metadata": {},
   "outputs": [
    {
     "name": "stdout",
     "output_type": "stream",
     "text": [
      "Brazil is the country that protects the forest the most True\n",
      "The WHO has found that ... False\n"
     ]
    }
   ],
   "source": [
    "classify_empiric_desinformation([\n",
    "\t\"Brazil is the country that protects the forest the most\",\n",
    "\t\"The WHO has found that ...\"\n",
    "])"
   ]
  }
 ],
 "metadata": {
  "interpreter": {
   "hash": "e7370f93d1d0cde622a1f8e1c04877d8463912d04d973331ad4851f04de6915a"
  },
  "kernelspec": {
   "display_name": "Python 3.9.7 64-bit",
   "language": "python",
   "name": "python3"
  },
  "language_info": {
   "codemirror_mode": {
    "name": "ipython",
    "version": 3
   },
   "file_extension": ".py",
   "mimetype": "text/x-python",
   "name": "python",
   "nbconvert_exporter": "python",
   "pygments_lexer": "ipython3",
   "version": "3.9.7"
  },
  "orig_nbformat": 4
 },
 "nbformat": 4,
 "nbformat_minor": 2
}
