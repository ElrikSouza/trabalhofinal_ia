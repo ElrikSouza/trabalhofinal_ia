{
 "cells": [
  {
   "cell_type": "code",
   "execution_count": 25,
   "metadata": {},
   "outputs": [],
   "source": [
    "import pandas as pd\n",
    "from sklearn.feature_extraction.text import TfidfVectorizer\n",
    "from sklearn.ensemble import RandomForestClassifier\n",
    "from sklearn.svm import LinearSVC\n",
    "from sklearn.dummy import DummyClassifier\n",
    "from xgboost import XGBClassifier\n",
    "from sklearn.linear_model import LogisticRegressionCV\n",
    "from sklearn.model_selection import train_test_split\n",
    "from sklearn.feature_selection import VarianceThreshold, SelectFromModel\n",
    "from sklearn.base import clone\n",
    "import numpy as np"
   ]
  },
  {
   "cell_type": "code",
   "execution_count": 26,
   "metadata": {},
   "outputs": [],
   "source": [
    "stop_words = [\"i\", \"you\", \"me\", \"they\", \"he\", \"him\", \"it\", \"she\", \"her\"]"
   ]
  },
  {
   "cell_type": "code",
   "execution_count": 27,
   "metadata": {},
   "outputs": [],
   "source": [
    "captions= pd.read_csv(\"captions.csv\",sep=\";\")"
   ]
  },
  {
   "cell_type": "code",
   "execution_count": 40,
   "metadata": {},
   "outputs": [],
   "source": [
    "def bow(textArray):\n",
    "\tvector = TfidfVectorizer(use_idf=True,\n",
    "                                    smooth_idf=True,\n",
    "                                    ngram_range=(1, 2), stop_words=stop_words)\n",
    "\tvector.fit(np.concatenate((textArray,captions.text)))\n",
    "\tbow = vector.transform(textArray)\n",
    "\t\n",
    "\n",
    "\treturn bow.toarray(), vector\n",
    "\n",
    "\n",
    "def csv_to_bow(PATH, sep=\";\"):\n",
    "\tdata = pd.read_csv(PATH, sep)\n",
    "\tvalues, vector = bow(data.text)\n",
    "\tdf_bow = pd.DataFrame(values, columns=vector.get_feature_names())\n",
    "\tdf_bow[\"class\"] = data[\"class\"]\n",
    "\n",
    "\treturn df_bow, vector"
   ]
  },
  {
   "cell_type": "code",
   "execution_count": 55,
   "metadata": {},
   "outputs": [],
   "source": [
    "def removeFeatures(x,y, selector):\n",
    "\tfeatures = list(selector.fit(x,y).get_support(indices=True))\n",
    "\tx = x.iloc[:, features]\n",
    "\n",
    "\treturn x, features"
   ]
  },
  {
   "cell_type": "code",
   "execution_count": 56,
   "metadata": {},
   "outputs": [],
   "source": [
    "def train(data, model):\n",
    "\tx = data.drop(columns=[\"class\"])\n",
    "\ty = data[\"class\"]\n",
    "\tx, features = removeFeatures(x,y,SelectFromModel(clone(model), max_features=20))\n",
    "\ttrain_x, test_x, train_y, test_y = train_test_split(\n",
    "\t\tx, y, stratify=y, test_size=0.2, random_state=67)\n",
    "\tmodel.fit(train_x, train_y)\n",
    "\tprint(model.score(test_x, test_y))\t\n",
    "\treturn model, features\n",
    "\t"
   ]
  },
  {
   "cell_type": "code",
   "execution_count": 61,
   "metadata": {},
   "outputs": [],
   "source": [
    "def test_sentences(text, y, model, transformer, features):\n",
    "\tx = transformer.transform(text)\n",
    "\tx = x[:, features]\n",
    "\tprint(f\"Orig. {list(y)}\")\n",
    "\tprint(f\"Pred. {model.predict(x)}\")\n",
    "\tprint(model.score(x, y))"
   ]
  },
  {
   "cell_type": "code",
   "execution_count": 57,
   "metadata": {},
   "outputs": [
    {
     "name": "stdout",
     "output_type": "stream",
     "text": [
      "0.9090909090909091\n"
     ]
    }
   ],
   "source": [
    "uncertainty, uncertainty_transformer = csv_to_bow(\"./incerteza.csv\")\n",
    "uncertainty_model, uncertainty_features = train(uncertainty, LinearSVC())"
   ]
  },
  {
   "cell_type": "code",
   "execution_count": 63,
   "metadata": {},
   "outputs": [
    {
     "name": "stdout",
     "output_type": "stream",
     "text": [
      "0.9047619047619048\n"
     ]
    }
   ],
   "source": [
    "hyperbole, hyperbole_transformer = csv_to_bow(\"./hyperbole.csv\")\n",
    "hyperbole_model, hyperbole_features = train(hyperbole, LinearSVC())"
   ]
  },
  {
   "cell_type": "code",
   "execution_count": 65,
   "metadata": {},
   "outputs": [
    {
     "name": "stdout",
     "output_type": "stream",
     "text": [
      "0.7272727272727273\n"
     ]
    }
   ],
   "source": [
    "metonymy, metonymy_transformer = csv_to_bow(\"./metonymy.csv\")\n",
    "metonymy_model, metonymy_features = train(metonymy, LinearSVC())"
   ]
  },
  {
   "cell_type": "code",
   "execution_count": 64,
   "metadata": {},
   "outputs": [
    {
     "name": "stdout",
     "output_type": "stream",
     "text": [
      "0.7857142857142857\n"
     ]
    }
   ],
   "source": [
    "antithesis, antithesis_transformer = csv_to_bow(\"./antithesis.csv\")\n",
    "antithesis_model, antithesis_features = train(antithesis, LinearSVC())"
   ]
  },
  {
   "cell_type": "code",
   "execution_count": 62,
   "metadata": {},
   "outputs": [
    {
     "name": "stdout",
     "output_type": "stream",
     "text": [
      "Orig. [1, 1, 1, 1, 1, 1, 1]\n",
      "Pred. [1 1 0 1 1 1 0]\n",
      "0.7142857142857143\n"
     ]
    }
   ],
   "source": [
    "test_sentences(captions.text, captions.uncertainty,uncertainty_model, uncertainty_transformer, uncertainty_features)"
   ]
  },
  {
   "cell_type": "code",
   "execution_count": 66,
   "metadata": {},
   "outputs": [
    {
     "name": "stdout",
     "output_type": "stream",
     "text": [
      "Orig. [1, 1, 1, 1, 1, 1, 1]\n",
      "Pred. [1 1 1 1 0 0 0]\n",
      "0.5714285714285714\n"
     ]
    }
   ],
   "source": [
    "test_sentences(captions.text, captions.hyperbole,hyperbole_model, hyperbole_transformer, hyperbole_features)"
   ]
  },
  {
   "cell_type": "code",
   "execution_count": 68,
   "metadata": {},
   "outputs": [
    {
     "name": "stdout",
     "output_type": "stream",
     "text": [
      "Orig. [1, 1, 1, 1, 1, 1, 1]\n",
      "Pred. [0 0 0 0 0 0 0]\n",
      "0.0\n"
     ]
    }
   ],
   "source": [
    "test_sentences(captions.text, captions.metonymy, metonymy_model, metonymy_transformer, metonymy_features)"
   ]
  },
  {
   "cell_type": "code",
   "execution_count": 69,
   "metadata": {},
   "outputs": [
    {
     "name": "stdout",
     "output_type": "stream",
     "text": [
      "Orig. [1, 1, 1, 1, 0, 0, 1]\n",
      "Pred. [1 1 1 1 1 1 1]\n",
      "0.7142857142857143\n"
     ]
    }
   ],
   "source": [
    "test_sentences(captions.text, captions.antithesis, antithesis_model, antithesis_transformer, antithesis_features)"
   ]
  },
  {
   "cell_type": "code",
   "execution_count": 35,
   "metadata": {},
   "outputs": [],
   "source": [
    "def replace_with_suffix(suffix, string):\n",
    "\twords = string.split(\" \")\n",
    "\twords_suffix = [word if not word.endswith(suffix) else suffix for word in words ]\n",
    "\treturn \" \".join(words_suffix)\n",
    "\n",
    "#def join_bigram(first, second, string):\n"
   ]
  }
 ],
 "metadata": {
  "interpreter": {
   "hash": "e7370f93d1d0cde622a1f8e1c04877d8463912d04d973331ad4851f04de6915a"
  },
  "kernelspec": {
   "display_name": "Python 3.9.7 64-bit",
   "language": "python",
   "name": "python3"
  },
  "language_info": {
   "codemirror_mode": {
    "name": "ipython",
    "version": 3
   },
   "file_extension": ".py",
   "mimetype": "text/x-python",
   "name": "python",
   "nbconvert_exporter": "python",
   "pygments_lexer": "ipython3",
   "version": "3.9.7"
  },
  "orig_nbformat": 4
 },
 "nbformat": 4,
 "nbformat_minor": 2
}
