{
 "cells": [
  {
   "cell_type": "code",
   "execution_count": 1,
   "metadata": {},
   "outputs": [],
   "source": [
    "import pandas as pd\n",
    "import tensorflow as tf\n",
    "from tensorflow.keras.layers import TextVectorization\n",
    "from tensorflow.keras import layers"
   ]
  },
  {
   "cell_type": "code",
   "execution_count": 2,
   "metadata": {},
   "outputs": [],
   "source": [
    "from numpy.random import seed\n",
    "seed(67)\n",
    "from tensorflow import random\n",
    "random.set_seed(67)"
   ]
  },
  {
   "cell_type": "code",
   "execution_count": 3,
   "metadata": {},
   "outputs": [],
   "source": [
    "# Consts\n",
    "max_features = 20000\n",
    "embedding_dim = 128\n",
    "sequence_length = 500"
   ]
  },
  {
   "cell_type": "code",
   "execution_count": 4,
   "metadata": {},
   "outputs": [],
   "source": [
    "def load_dataset(folder_name, batch_size):\n",
    "\tbatch_size = 5\n",
    "\traw_train_ds = tf.keras.preprocessing.text_dataset_from_directory(\n",
    "\t\t\"{}/train\".format(folder_name),\n",
    "\t\tbatch_size=batch_size,\n",
    "\t\tvalidation_split=0.2,\n",
    "\t\tsubset=\"training\",\n",
    "\t\tseed=1337,\n",
    "\t)\n",
    "\traw_val_ds = tf.keras.preprocessing.text_dataset_from_directory(\n",
    "\t\t\"{}/train\".format(folder_name),\n",
    "\t\tbatch_size=batch_size,\n",
    "\t\tvalidation_split=0.2,\n",
    "\t\tsubset=\"validation\",\n",
    "\t\tseed=1337,\n",
    "\t)\n",
    "\traw_test_ds = tf.keras.preprocessing.text_dataset_from_directory(\n",
    "\t\t\"{}/test\".format(folder_name), batch_size=batch_size\n",
    "\t)\n",
    "\n",
    "\treturn raw_train_ds, raw_val_ds, raw_test_ds"
   ]
  },
  {
   "cell_type": "code",
   "execution_count": 5,
   "metadata": {},
   "outputs": [],
   "source": [
    "def get_vectorize_layer(raw_train_ds):\n",
    "\tvectorize_layer = TextVectorization(\n",
    "\t\tstandardize='lower_and_strip_punctuation',\n",
    "\t\tmax_tokens=max_features,\n",
    "\t\toutput_mode=\"int\",\n",
    "\t\toutput_sequence_length=sequence_length,\n",
    "\t)\n",
    "\n",
    "\ttext_ds = raw_train_ds.map(lambda x, y: x)\n",
    "\tvectorize_layer.adapt(text_ds)\n",
    "\n",
    "\treturn vectorize_layer"
   ]
  },
  {
   "cell_type": "code",
   "execution_count": 6,
   "metadata": {},
   "outputs": [],
   "source": [
    "def get_vectorize_text_map(vectorize_layer):\n",
    "\tdef map_text(text, label):\n",
    "\t\ttext = tf.expand_dims(text, -1)\n",
    "\t\treturn vectorize_layer(text), label\n",
    "\t\n",
    "\treturn map_text\n",
    "\n",
    "def create_final_datasets(raw_train_ds, raw_val_ds, raw_test_ds, vectorize_layer):\n",
    "\tvectorize_text = get_vectorize_text_map(vectorize_layer)\n",
    "\ttrain_ds = raw_train_ds.map(vectorize_text)\n",
    "\tval_ds = raw_val_ds.map(vectorize_text)\n",
    "\ttest_ds = raw_test_ds.map(vectorize_text)\n",
    "\n",
    "\ttrain_ds = train_ds.cache().prefetch(buffer_size=10)\n",
    "\tval_ds = val_ds.cache().prefetch(buffer_size=10)\n",
    "\ttest_ds = test_ds.cache().prefetch(buffer_size=10)\n",
    "\n",
    "\treturn train_ds, val_ds, test_ds"
   ]
  },
  {
   "cell_type": "code",
   "execution_count": 7,
   "metadata": {},
   "outputs": [],
   "source": [
    "def create_model():\n",
    "\tinputs = tf.keras.Input(shape=(None,), dtype=\"int64\")\n",
    "\n",
    "\tx = layers.Embedding(max_features, embedding_dim)(inputs)\n",
    "\tx = layers.Dropout(0.5)(x)\n",
    "\n",
    "\tx = layers.Conv1D(128, 7, padding=\"valid\", activation=\"relu\", strides=3)(x)\n",
    "\tx = layers.Conv1D(128, 7, padding=\"valid\", activation=\"relu\", strides=3)(x)\n",
    "\tx = layers.GlobalMaxPooling1D()(x)\n",
    "\n",
    "\tx = layers.Dense(128, activation=\"relu\")(x)\n",
    "\tx = layers.Dropout(0.5)(x)\n",
    "\n",
    "\tpredictions = layers.Dense(1, activation=\"sigmoid\", name=\"predictions\")(x)\n",
    "\n",
    "\tmodel = tf.keras.Model(inputs, predictions)\n",
    "\n",
    "\tmodel.compile(loss=\"binary_crossentropy\", optimizer=\"adam\", metrics=[\"accuracy\"])\n",
    "\n",
    "\treturn model"
   ]
  },
  {
   "cell_type": "code",
   "execution_count": 8,
   "metadata": {},
   "outputs": [],
   "source": [
    "def train_model(model, train_ds, val_ds, epochs = 7):\n",
    "\tmodel.fit(train_ds, validation_data=val_ds, epochs=epochs)\n",
    "\treturn model"
   ]
  },
  {
   "cell_type": "code",
   "execution_count": 9,
   "metadata": {},
   "outputs": [],
   "source": [
    "def create_e2e_model(model, vectorize_layer):\n",
    "\tinputs = tf.keras.Input(shape=(1,), dtype=\"string\")\n",
    "\tindices = vectorize_layer(inputs)\n",
    "\toutputs = model(indices)\n",
    "\n",
    "\te2e_model = tf.keras.Model(inputs, outputs)\n",
    "\te2e_model.compile(\n",
    "\t\tloss=\"binary_crossentropy\", optimizer=\"adam\", metrics=[\"accuracy\"]\n",
    "\t)\n",
    "\n",
    "\treturn e2e_model"
   ]
  },
  {
   "cell_type": "code",
   "execution_count": 10,
   "metadata": {},
   "outputs": [],
   "source": [
    "def test_dataset(dataset_name, epochs):\n",
    "\traw_train_ds, raw_val_ds, raw_test_ds = load_dataset(dataset_name, 5)\n",
    "\tvectorize_layer = get_vectorize_layer(raw_train_ds)\n",
    "\ttrain_ds, val_ds, test_ds = create_final_datasets(raw_train_ds, raw_val_ds, raw_test_ds, vectorize_layer)\n",
    "\tmodel = create_model()\n",
    "\tmodel = train_model(model, train_ds, val_ds, epochs)\n",
    "\tmodel.evaluate(test_ds)\n",
    "\te2e_model = create_e2e_model(model, vectorize_layer)\n",
    "\treturn e2e_model"
   ]
  },
  {
   "cell_type": "code",
   "execution_count": 11,
   "metadata": {},
   "outputs": [
    {
     "name": "stdout",
     "output_type": "stream",
     "text": [
      "Found 80 files belonging to 2 classes.\n",
      "Using 64 files for training.\n",
      "Found 80 files belonging to 2 classes.\n",
      "Using 16 files for validation.\n",
      "Found 21 files belonging to 2 classes.\n",
      "Epoch 1/8\n",
      "13/13 [==============================] - 3s 81ms/step - loss: 0.7112 - accuracy: 0.4219 - val_loss: 0.6971 - val_accuracy: 0.5000\n",
      "Epoch 2/8\n",
      "13/13 [==============================] - 1s 47ms/step - loss: 0.6849 - accuracy: 0.5469 - val_loss: 0.6910 - val_accuracy: 0.5625\n",
      "Epoch 3/8\n",
      "13/13 [==============================] - 1s 50ms/step - loss: 0.6880 - accuracy: 0.5312 - val_loss: 0.6823 - val_accuracy: 0.5000\n",
      "Epoch 4/8\n",
      "13/13 [==============================] - 1s 47ms/step - loss: 0.6849 - accuracy: 0.5625 - val_loss: 0.6565 - val_accuracy: 0.8750\n",
      "Epoch 5/8\n",
      "13/13 [==============================] - 1s 47ms/step - loss: 0.6442 - accuracy: 0.6406 - val_loss: 0.5825 - val_accuracy: 0.6875\n",
      "Epoch 6/8\n",
      "13/13 [==============================] - 1s 47ms/step - loss: 0.5041 - accuracy: 0.6719 - val_loss: 0.4924 - val_accuracy: 0.8125\n",
      "Epoch 7/8\n",
      "13/13 [==============================] - 1s 47ms/step - loss: 0.3367 - accuracy: 0.9375 - val_loss: 0.3993 - val_accuracy: 0.8125\n",
      "Epoch 8/8\n",
      "13/13 [==============================] - 1s 47ms/step - loss: 0.2020 - accuracy: 0.9531 - val_loss: 0.3972 - val_accuracy: 0.8125\n",
      "5/5 [==============================] - 0s 4ms/step - loss: 0.2880 - accuracy: 0.8571\n"
     ]
    }
   ],
   "source": [
    "hyperbole_model = test_dataset(\"hyperboleset\", 8)"
   ]
  },
  {
   "cell_type": "code",
   "execution_count": 12,
   "metadata": {},
   "outputs": [
    {
     "name": "stdout",
     "output_type": "stream",
     "text": [
      "Found 63 files belonging to 2 classes.\n",
      "Using 51 files for training.\n",
      "Found 63 files belonging to 2 classes.\n",
      "Using 12 files for validation.\n",
      "Found 16 files belonging to 2 classes.\n",
      "Epoch 1/8\n",
      "11/11 [==============================] - 1s 58ms/step - loss: 0.6983 - accuracy: 0.4510 - val_loss: 0.6931 - val_accuracy: 0.4167\n",
      "Epoch 2/8\n",
      "11/11 [==============================] - 1s 46ms/step - loss: 0.6912 - accuracy: 0.5098 - val_loss: 0.6889 - val_accuracy: 0.5833\n",
      "Epoch 3/8\n",
      "11/11 [==============================] - 1s 57ms/step - loss: 0.6927 - accuracy: 0.4902 - val_loss: 0.6877 - val_accuracy: 0.5833\n",
      "Epoch 4/8\n",
      "11/11 [==============================] - 1s 56ms/step - loss: 0.6858 - accuracy: 0.5686 - val_loss: 0.6803 - val_accuracy: 0.6667\n",
      "Epoch 5/8\n",
      "11/11 [==============================] - 1s 57ms/step - loss: 0.6755 - accuracy: 0.5882 - val_loss: 0.6754 - val_accuracy: 0.7500\n",
      "Epoch 6/8\n",
      "11/11 [==============================] - 0s 44ms/step - loss: 0.6702 - accuracy: 0.6667 - val_loss: 0.6459 - val_accuracy: 0.7500\n",
      "Epoch 7/8\n",
      "11/11 [==============================] - 0s 39ms/step - loss: 0.5557 - accuracy: 0.8039 - val_loss: 0.5796 - val_accuracy: 0.7500\n",
      "Epoch 8/8\n",
      "11/11 [==============================] - 0s 43ms/step - loss: 0.3663 - accuracy: 0.9608 - val_loss: 0.5209 - val_accuracy: 0.7500\n",
      "4/4 [==============================] - 0s 3ms/step - loss: 0.7300 - accuracy: 0.5625\n"
     ]
    }
   ],
   "source": [
    "uncertainty_model  = test_dataset(\"incertezaset\", 8)"
   ]
  },
  {
   "cell_type": "code",
   "execution_count": 13,
   "metadata": {},
   "outputs": [
    {
     "name": "stdout",
     "output_type": "stream",
     "text": [
      "Found 43 files belonging to 2 classes.\n",
      "Using 35 files for training.\n",
      "Found 43 files belonging to 2 classes.\n",
      "Using 8 files for validation.\n",
      "Found 11 files belonging to 2 classes.\n",
      "Epoch 1/10\n",
      "7/7 [==============================] - 1s 59ms/step - loss: 0.6599 - accuracy: 0.6286 - val_loss: 0.8259 - val_accuracy: 0.2500\n",
      "Epoch 2/10\n",
      "7/7 [==============================] - 0s 40ms/step - loss: 0.6915 - accuracy: 0.6000 - val_loss: 0.8327 - val_accuracy: 0.2500\n",
      "Epoch 3/10\n",
      "7/7 [==============================] - 0s 40ms/step - loss: 0.6943 - accuracy: 0.6000 - val_loss: 0.7414 - val_accuracy: 0.2500\n",
      "Epoch 4/10\n",
      "7/7 [==============================] - 0s 40ms/step - loss: 0.7038 - accuracy: 0.5143 - val_loss: 0.7312 - val_accuracy: 0.2500\n",
      "Epoch 5/10\n",
      "7/7 [==============================] - 0s 40ms/step - loss: 0.6831 - accuracy: 0.5714 - val_loss: 0.7376 - val_accuracy: 0.2500\n",
      "Epoch 6/10\n",
      "7/7 [==============================] - 0s 40ms/step - loss: 0.6868 - accuracy: 0.6000 - val_loss: 0.7431 - val_accuracy: 0.2500\n",
      "Epoch 7/10\n",
      "7/7 [==============================] - 0s 41ms/step - loss: 0.6777 - accuracy: 0.6000 - val_loss: 0.7437 - val_accuracy: 0.2500\n",
      "Epoch 8/10\n",
      "7/7 [==============================] - 0s 40ms/step - loss: 0.6644 - accuracy: 0.6000 - val_loss: 0.7621 - val_accuracy: 0.2500\n",
      "Epoch 9/10\n",
      "7/7 [==============================] - 0s 40ms/step - loss: 0.6469 - accuracy: 0.6286 - val_loss: 0.7938 - val_accuracy: 0.2500\n",
      "Epoch 10/10\n",
      "7/7 [==============================] - 0s 41ms/step - loss: 0.6176 - accuracy: 0.6857 - val_loss: 0.8422 - val_accuracy: 0.2500\n",
      "3/3 [==============================] - 0s 4ms/step - loss: 0.7027 - accuracy: 0.5455\n"
     ]
    }
   ],
   "source": [
    "metonymy_model = test_dataset(\"metonymyset\", 10)"
   ]
  },
  {
   "cell_type": "code",
   "execution_count": 14,
   "metadata": {},
   "outputs": [
    {
     "name": "stdout",
     "output_type": "stream",
     "text": [
      "Found 55 files belonging to 2 classes.\n",
      "Using 44 files for training.\n",
      "Found 55 files belonging to 2 classes.\n",
      "Using 11 files for validation.\n",
      "Found 14 files belonging to 2 classes.\n",
      "Epoch 1/10\n",
      "9/9 [==============================] - 1s 56ms/step - loss: 0.6996 - accuracy: 0.4773 - val_loss: 0.6931 - val_accuracy: 0.4545\n",
      "Epoch 2/10\n",
      "9/9 [==============================] - 0s 39ms/step - loss: 0.7023 - accuracy: 0.5000 - val_loss: 0.6948 - val_accuracy: 0.4545\n",
      "Epoch 3/10\n",
      "9/9 [==============================] - 0s 40ms/step - loss: 0.7036 - accuracy: 0.4545 - val_loss: 0.6952 - val_accuracy: 0.4545\n",
      "Epoch 4/10\n",
      "9/9 [==============================] - 0s 41ms/step - loss: 0.6963 - accuracy: 0.5682 - val_loss: 0.6952 - val_accuracy: 0.4545\n",
      "Epoch 5/10\n",
      "9/9 [==============================] - 0s 40ms/step - loss: 0.6802 - accuracy: 0.5455 - val_loss: 0.6967 - val_accuracy: 0.4545\n",
      "Epoch 6/10\n",
      "9/9 [==============================] - 0s 50ms/step - loss: 0.6824 - accuracy: 0.5227 - val_loss: 0.6964 - val_accuracy: 0.4545\n",
      "Epoch 7/10\n",
      "9/9 [==============================] - 0s 48ms/step - loss: 0.6496 - accuracy: 0.5909 - val_loss: 0.6987 - val_accuracy: 0.4545\n",
      "Epoch 8/10\n",
      "9/9 [==============================] - 0s 48ms/step - loss: 0.5835 - accuracy: 0.7045 - val_loss: 0.7116 - val_accuracy: 0.4545\n",
      "Epoch 9/10\n",
      "9/9 [==============================] - 0s 48ms/step - loss: 0.4628 - accuracy: 0.7500 - val_loss: 0.7622 - val_accuracy: 0.5455\n",
      "Epoch 10/10\n",
      "9/9 [==============================] - 0s 47ms/step - loss: 0.2686 - accuracy: 1.0000 - val_loss: 0.8614 - val_accuracy: 0.4545\n",
      "3/3 [==============================] - 0s 4ms/step - loss: 0.7084 - accuracy: 0.6429\n"
     ]
    }
   ],
   "source": [
    "antithesis_model = test_dataset(\"antithesis_set\", 10)"
   ]
  },
  {
   "cell_type": "code",
   "execution_count": 15,
   "metadata": {},
   "outputs": [],
   "source": [
    "captions = pd.read_csv(\"captions.csv\", sep=\";\")"
   ]
  },
  {
   "cell_type": "code",
   "execution_count": 26,
   "metadata": {},
   "outputs": [
    {
     "name": "stdout",
     "output_type": "stream",
     "text": [
      "1/1 [==============================] - 0s 21ms/step - loss: 0.0198 - accuracy: 1.0000\n"
     ]
    },
    {
     "data": {
      "text/plain": [
       "array([[0.98555505],\n",
       "       [0.99903405],\n",
       "       [0.9945671 ],\n",
       "       [0.93080693],\n",
       "       [0.9831228 ],\n",
       "       [0.998544  ],\n",
       "       [0.9729843 ]], dtype=float32)"
      ]
     },
     "execution_count": 26,
     "metadata": {},
     "output_type": "execute_result"
    }
   ],
   "source": [
    "hyperbole_model.evaluate(captions.text, captions.hyperbole)\n",
    "hyperbole_model.predict(captions.text)"
   ]
  },
  {
   "cell_type": "code",
   "execution_count": 25,
   "metadata": {},
   "outputs": [
    {
     "name": "stdout",
     "output_type": "stream",
     "text": [
      "1/1 [==============================] - 0s 23ms/step - loss: 0.2673 - accuracy: 0.8571\n"
     ]
    },
    {
     "data": {
      "text/plain": [
       "array([[0.92356837],\n",
       "       [0.8670976 ],\n",
       "       [0.6801777 ],\n",
       "       [0.823809  ],\n",
       "       [0.8568609 ],\n",
       "       [0.84368724],\n",
       "       [0.47467005]], dtype=float32)"
      ]
     },
     "execution_count": 25,
     "metadata": {},
     "output_type": "execute_result"
    }
   ],
   "source": [
    "uncertainty_model.evaluate(captions.text, captions.uncertainty)\n",
    "uncertainty_model.predict(captions.text)"
   ]
  },
  {
   "cell_type": "code",
   "execution_count": 24,
   "metadata": {},
   "outputs": [
    {
     "name": "stdout",
     "output_type": "stream",
     "text": [
      "1/1 [==============================] - 0s 22ms/step - loss: 0.8930 - accuracy: 0.0000e+00\n"
     ]
    },
    {
     "data": {
      "text/plain": [
       "array([[0.3946709 ],\n",
       "       [0.4261344 ],\n",
       "       [0.41406006],\n",
       "       [0.40117604],\n",
       "       [0.4079222 ],\n",
       "       [0.39703694],\n",
       "       [0.42626292]], dtype=float32)"
      ]
     },
     "execution_count": 24,
     "metadata": {},
     "output_type": "execute_result"
    }
   ],
   "source": [
    "metonymy_model.evaluate(captions.text, captions.metonymy)\n",
    "metonymy_model.predict(captions.text)"
   ]
  },
  {
   "cell_type": "code",
   "execution_count": 23,
   "metadata": {},
   "outputs": [
    {
     "name": "stdout",
     "output_type": "stream",
     "text": [
      "1/1 [==============================] - 0s 21ms/step - loss: 0.9732 - accuracy: 0.7143\n"
     ]
    },
    {
     "data": {
      "text/plain": [
       "array([[0.6579479 ],\n",
       "       [0.89892447],\n",
       "       [0.9297848 ],\n",
       "       [0.6341864 ],\n",
       "       [0.97060925],\n",
       "       [0.83124745],\n",
       "       [0.63600916]], dtype=float32)"
      ]
     },
     "execution_count": 23,
     "metadata": {},
     "output_type": "execute_result"
    }
   ],
   "source": [
    "antithesis_model.evaluate(captions.text, captions.antithesis)\n",
    "antithesis_model.predict(captions.text)"
   ]
  }
 ],
 "metadata": {
  "interpreter": {
   "hash": "e7370f93d1d0cde622a1f8e1c04877d8463912d04d973331ad4851f04de6915a"
  },
  "kernelspec": {
   "display_name": "Python 3.9.7 64-bit",
   "language": "python",
   "name": "python3"
  },
  "language_info": {
   "codemirror_mode": {
    "name": "ipython",
    "version": 3
   },
   "file_extension": ".py",
   "mimetype": "text/x-python",
   "name": "python",
   "nbconvert_exporter": "python",
   "pygments_lexer": "ipython3",
   "version": "3.9.7"
  },
  "orig_nbformat": 4
 },
 "nbformat": 4,
 "nbformat_minor": 2
}
